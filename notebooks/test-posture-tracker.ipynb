{
 "cells": [
  {
   "cell_type": "code",
   "execution_count": 1,
   "metadata": {},
   "outputs": [],
   "source": [
    "%load_ext autoreload\n",
    "%autoreload 2"
   ]
  },
  {
   "cell_type": "markdown",
   "metadata": {},
   "source": [
    "**STEP FOR PI:**\n",
    "To ensure opencv can detect the pi camera, activate the following driver which comes included with\n",
    "the raspberry Pi OS.\n",
    "\n",
    "REF:\n",
    "\n",
    "- https://stackoverflow.com/questions/27950013/i-am-trying-make-the-raspberry-pi-camera-work-with-opencv\n",
    "- https://github.com/thenaran/linux-rpi/blob/master/Documentation/video4linux/bcm2835-v4l2.txt\n"
   ]
  },
  {
   "cell_type": "code",
   "execution_count": null,
   "metadata": {},
   "outputs": [],
   "source": [
    "!sudo modprobe bcm2835-v4l2"
   ]
  },
  {
   "cell_type": "markdown",
   "metadata": {},
   "source": [
    "Then to check driver is activated.\n"
   ]
  },
  {
   "cell_type": "code",
   "execution_count": null,
   "metadata": {},
   "outputs": [],
   "source": [
    "!ls -ltrh /dev/video*"
   ]
  },
  {
   "cell_type": "code",
   "execution_count": 2,
   "metadata": {},
   "outputs": [],
   "source": [
    "import cv2\n",
    "from models.pose_detection.routines import (\n",
    "    DebugPostureTracker,\n",
    "    create_debug_posture_tracker,\n",
    ")"
   ]
  },
  {
   "cell_type": "code",
   "execution_count": 3,
   "metadata": {},
   "outputs": [],
   "source": [
    "def run_posture_tracking_loop(posture_tracker: DebugPostureTracker):\n",
    "    while True:\n",
    "        # Other control flow code\n",
    "        # ...\n",
    "\n",
    "        posture_tracker.track_posture()\n",
    "\n",
    "        # ...\n",
    "        # Other control flow code\n",
    "\n",
    "        # Quit when q is pressed\n",
    "        if cv2.waitKey(1) & 0xFF == ord(\"q\"):\n",
    "            break"
   ]
  },
  {
   "cell_type": "code",
   "execution_count": null,
   "metadata": {},
   "outputs": [],
   "source": [
    "with create_debug_posture_tracker() as posture_tracker:\n",
    "    run_posture_tracking_loop(posture_tracker)"
   ]
  },
  {
   "cell_type": "code",
   "execution_count": null,
   "metadata": {},
   "outputs": [],
   "source": []
  }
 ],
 "metadata": {
  "kernelspec": {
   "display_name": "sitting-desktop-garden",
   "language": "python",
   "name": "python3"
  },
  "language_info": {
   "codemirror_mode": {
    "name": "ipython",
    "version": 3
   },
   "file_extension": ".py",
   "mimetype": "text/x-python",
   "name": "python",
   "nbconvert_exporter": "python",
   "pygments_lexer": "ipython3",
   "version": "3.12.4"
  }
 },
 "nbformat": 4,
 "nbformat_minor": 2
}
